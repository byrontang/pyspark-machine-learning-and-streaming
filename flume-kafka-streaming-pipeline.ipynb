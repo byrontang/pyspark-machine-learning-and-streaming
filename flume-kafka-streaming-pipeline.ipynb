{
 "cells": [
  {
   "cell_type": "markdown",
   "metadata": {},
   "source": [
    "# Flume & Kafka Streaming Pipeline"
   ]
  },
  {
   "cell_type": "markdown",
   "metadata": {},
   "source": [
    "## Verify the Cluster\n",
    "```zookeeper = ip-20-0-21-196.ec2.internal```\n",
    "\n",
    "```brokers = ip-20-0-31-210.ec2.internal, ip-20-0-31-221.ec2.internal, ip-20-0-31-4.ec2.internal```"
   ]
  },
  {
   "cell_type": "markdown",
   "metadata": {},
   "source": [
    "## Create a topic in Kafka\n",
    "Create a topic in Kafka so that consumers and produces can enqueue/dequeue data respectively from the topic\n",
    "\n",
    "```kafka-topics --create --zookeeper ip-20-0-21-196.ec2.internal:2181 --replication-factor 1 --partitions 1 --topic edureka_854312_assignment_9_1```\n",
    "\n",
    "```kafka-topics --describe --zookeeper ip-20-0-21-196.ec2.internal --topic edureka_854312_assignment_9_1```"
   ]
  },
  {
   "cell_type": "markdown",
   "metadata": {},
   "source": [
    "## Test Kafka Consumer\n",
    "Write the test Kafka consumer and verify that data is sent successfully.\n",
    "\n",
    "**Set-up Producer**\n",
    "\n",
    "```kafka-console-producer --topic edureka_854312_assignment_9_1 --broker-list ip-20-0-31-210.ec2.internal:9092, ip-20-0-31-221.ec2.internal:9092, ip-20-0-31-221.ec2.internal:9092```\n",
    "\n",
    "**Set-up Consumer**\n",
    "\n",
    "```kafka-console-consumer --topic edureka_854312_assignment_9_1 --from-beginning --zookeeper ip-20-0-21-196.ec2.internal```"
   ]
  },
  {
   "cell_type": "markdown",
   "metadata": {},
   "source": [
    "## Flume Configuration\n",
    "Configure a flume agent to use Kafka as the channel and HDFS as the sink\n",
    "\n",
    "**In FTP:** upload kafka-flume-hdfs.conf\n",
    "\n",
    "**In webconsole:**\n",
    "\n",
    "```hdfs dfs -mkdir Flume_kafka```\n",
    "\n",
    "```hdfs dfs -put -f kafka-flume-hdfs.conf Flume_kafka/```\n",
    "\n",
    "**Codes in kafka-flume-hdfs.conf**\n",
    "```\n",
    "edureka_854312_9_1.sources = kafka-source\n",
    "edureka_854312_9_1.channels = memory-channel\n",
    "edureka_854312_9_1.sinks = hdfs-sink\n",
    "\n",
    "edureka_854312_9_1.sources.kafka-source.type = org.apache.flume.source.kafka.KafkaSource\n",
    "edureka_854312_9_1.sources.kafka-source.kafka.bootstrap.servers = ip-20-0-31-210.ec2.internal:9092, ip-20-0-31-221.ec2.internal:9092, ip-20-0-31-221.ec2.internal:9092\n",
    "edureka_854312_9_1.sources.kafka-source.kafka.topics = edureka_854312_assignment_9_1\n",
    "edureka_854312_9_1.sources.kafka-source.kafka.consumer.group.id = flume\n",
    "edureka_854312_9_1.sources.kafka-source.interceptors = i1\n",
    "edureka_854312_9_1.sources.kafka-source.interceptors.i1.type = timestamp\n",
    "edureka_854312_9_1.sources.kafka-source.kafka.consumer.timeout.ms = 100\n",
    " \n",
    "edureka_854312_9_1.channels.memory-channel.type = memory\n",
    "edureka_854312_9_1.channels.memory-channel.capacity = 10000\n",
    "edureka_854312_9_1.channels.memory-channel.transactionCapacity = 1000\n",
    " \n",
    "edureka_854312_9_1.sinks.hdfs-sink.type = hdfs\n",
    "edureka_854312_9_1.sinks.hdfs-sink.hdfs.path = hdfs://nameservice1/user/edureka_854312/Flume_kafka\n",
    "edureka_854312_9_1.sinks.hdfs-sink.hdfs.rollInterval = 5\n",
    "edureka_854312_9_1.sinks.hdfs-sink.hdfs.rollSize = 0\n",
    "edureka_854312_9_1.sinks.hdfs-sink.hdfs.rollCount = 0\n",
    "edureka_854312_9_1.sinks.hdfs-sink.hdfs.fileType = DataStream\n",
    " \n",
    "edureka_854312_9_1.sources.kafka-source.channels = memory-channel\n",
    "edureka_854312_9_1.sinks.hdfs-sink.channel = memory-channel\n",
    "```"
   ]
  },
  {
   "cell_type": "markdown",
   "metadata": {},
   "source": [
    "## Start Flume Agent\n",
    "Start flume agent and test the output to HDFS\n",
    "\n",
    "```flume-ng agent --conf conf --conf-file kafka-flume-hdfs.conf --name edureka_854312_9_1 -Dflume.root.logger=INFO,console```"
   ]
  },
  {
   "cell_type": "markdown",
   "metadata": {},
   "source": [
    "## Test the complete pipeline\n",
    "\n",
    "```kafka-console-producer --broker-list ip-20-0-31-210.ec2.internal:9092, ip-20-0-31-221.ec2.internal:9092, ip-20-0-31-221.ec2.internal:9092 --topic edureka_854312_assignment_9_1```"
   ]
  }
 ],
 "metadata": {
  "kernelspec": {
   "display_name": "Python 3",
   "language": "python",
   "name": "python3"
  },
  "language_info": {
   "codemirror_mode": {
    "name": "ipython",
    "version": 3
   },
   "file_extension": ".py",
   "mimetype": "text/x-python",
   "name": "python",
   "nbconvert_exporter": "python",
   "pygments_lexer": "ipython3",
   "version": "3.5.2"
  }
 },
 "nbformat": 4,
 "nbformat_minor": 2
}
