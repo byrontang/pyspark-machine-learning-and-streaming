{
 "cells": [
  {
   "cell_type": "code",
   "execution_count": 1,
   "metadata": {},
   "outputs": [],
   "source": [
    "from pyspark.sql import SparkSession, SQLContext\n",
    "from pyspark import SparkContext, SparkConf\n",
    "from pyspark.sql.functions import col"
   ]
  },
  {
   "cell_type": "code",
   "execution_count": 2,
   "metadata": {},
   "outputs": [],
   "source": [
    "#sc = SparkContext(appName=\"FraudDetection\").getOrCreate()\n",
    "sess = SparkSession(sc)"
   ]
  },
  {
   "cell_type": "markdown",
   "metadata": {},
   "source": [
    "## Data Preprocessing\n",
    "The csv file is not uploaded because it's 481 MB."
   ]
  },
  {
   "cell_type": "code",
   "execution_count": 3,
   "metadata": {},
   "outputs": [],
   "source": [
    "df = sess.read.csv(\"../pyspark-machine-learning-and-streaming/data/PS_20174392719_1491204439457_log.csv\", \n",
    "                   inferSchema=True, \n",
    "                   header=True)"
   ]
  },
  {
   "cell_type": "code",
   "execution_count": 4,
   "metadata": {},
   "outputs": [
    {
     "name": "stdout",
     "output_type": "stream",
     "text": [
      "root\n",
      " |-- step: integer (nullable = true)\n",
      " |-- type: string (nullable = true)\n",
      " |-- amount: double (nullable = true)\n",
      " |-- nameOrig: string (nullable = true)\n",
      " |-- oldbalanceOrg: double (nullable = true)\n",
      " |-- newbalanceOrig: double (nullable = true)\n",
      " |-- nameDest: string (nullable = true)\n",
      " |-- oldbalanceDest: double (nullable = true)\n",
      " |-- newbalanceDest: double (nullable = true)\n",
      " |-- isFraud: integer (nullable = true)\n",
      " |-- isFlaggedFraud: integer (nullable = true)\n",
      "\n"
     ]
    }
   ],
   "source": [
    "df.printSchema()"
   ]
  },
  {
   "cell_type": "code",
   "execution_count": 5,
   "metadata": {},
   "outputs": [
    {
     "name": "stdout",
     "output_type": "stream",
     "text": [
      "+----+--------+--------+-----------+-------------+--------------+-----------+--------------+--------------+-------+--------------+\n",
      "|step|    type|  amount|   nameOrig|oldbalanceOrg|newbalanceOrig|   nameDest|oldbalanceDest|newbalanceDest|isFraud|isFlaggedFraud|\n",
      "+----+--------+--------+-----------+-------------+--------------+-----------+--------------+--------------+-------+--------------+\n",
      "|   1| PAYMENT| 9839.64|C1231006815|     170136.0|     160296.36|M1979787155|           0.0|           0.0|      0|             0|\n",
      "|   1| PAYMENT| 1864.28|C1666544295|      21249.0|      19384.72|M2044282225|           0.0|           0.0|      0|             0|\n",
      "|   1|TRANSFER|   181.0|C1305486145|        181.0|           0.0| C553264065|           0.0|           0.0|      1|             0|\n",
      "|   1|CASH_OUT|   181.0| C840083671|        181.0|           0.0|  C38997010|       21182.0|           0.0|      1|             0|\n",
      "|   1| PAYMENT|11668.14|C2048537720|      41554.0|      29885.86|M1230701703|           0.0|           0.0|      0|             0|\n",
      "+----+--------+--------+-----------+-------------+--------------+-----------+--------------+--------------+-------+--------------+\n",
      "only showing top 5 rows\n",
      "\n"
     ]
    }
   ],
   "source": [
    "df.show(5)"
   ]
  },
  {
   "cell_type": "code",
   "execution_count": 6,
   "metadata": {},
   "outputs": [
    {
     "data": {
      "text/plain": [
       "(6362620, 11)"
      ]
     },
     "execution_count": 6,
     "metadata": {},
     "output_type": "execute_result"
    }
   ],
   "source": [
    "df.count(), len(df.columns)"
   ]
  },
  {
   "cell_type": "code",
   "execution_count": 7,
   "metadata": {},
   "outputs": [],
   "source": [
    "df.createTempView(\"df_fraud\")"
   ]
  },
  {
   "cell_type": "code",
   "execution_count": 8,
   "metadata": {},
   "outputs": [
    {
     "name": "stdout",
     "output_type": "stream",
     "text": [
      "+--------+--------+-------------+--------------+--------------+--------------+-------+\n",
      "|    type|  amount|oldbalanceOrg|newbalanceOrig|oldbalancedest|newbalanceDest|isFraud|\n",
      "+--------+--------+-------------+--------------+--------------+--------------+-------+\n",
      "| PAYMENT| 9839.64|     170136.0|     160296.36|           0.0|           0.0|    0.0|\n",
      "| PAYMENT| 1864.28|      21249.0|      19384.72|           0.0|           0.0|    0.0|\n",
      "|TRANSFER|   181.0|        181.0|           0.0|           0.0|           0.0|    1.0|\n",
      "|CASH_OUT|   181.0|        181.0|           0.0|       21182.0|           0.0|    1.0|\n",
      "| PAYMENT|11668.14|      41554.0|      29885.86|           0.0|           0.0|    0.0|\n",
      "+--------+--------+-------------+--------------+--------------+--------------+-------+\n",
      "only showing top 5 rows\n",
      "\n"
     ]
    }
   ],
   "source": [
    "df_model = df.select(['type', 'amount', 'oldbalanceOrg', 'newbalanceOrig', \n",
    "                      'oldbalancedest', 'newbalanceDest', 'isFraud']).withColumn(\"isFraud\", col(\"isFraud\").cast(\"double\"))\n",
    "df_model.show(5)"
   ]
  },
  {
   "cell_type": "code",
   "execution_count": 9,
   "metadata": {},
   "outputs": [],
   "source": [
    "train_data, test_data = df_model.randomSplit([0.7,0.3])"
   ]
  },
  {
   "cell_type": "code",
   "execution_count": 10,
   "metadata": {
    "scrolled": true
   },
   "outputs": [
    {
     "name": "stdout",
     "output_type": "stream",
     "text": [
      "+-------+------+-------------+--------------+--------------+--------------+-------+\n",
      "|   type|amount|oldbalanceOrg|newbalanceOrig|oldbalancedest|newbalanceDest|isFraud|\n",
      "+-------+------+-------------+--------------+--------------+--------------+-------+\n",
      "|CASH_IN|  5.44|          0.0|          5.44|     594031.45|    1014777.06|    0.0|\n",
      "|CASH_IN|  8.44|      39384.0|      39392.44|    3314615.62|    3314607.18|    0.0|\n",
      "|CASH_IN|  9.02|   2416260.59|    2416269.61|     342107.85|     215696.34|    0.0|\n",
      "|CASH_IN| 13.86|   6868100.18|    6868114.04|    1085768.44|    1085754.58|    0.0|\n",
      "|CASH_IN|  14.4|1.143460813E7| 1.143462253E7|       46093.0|     124958.22|    0.0|\n",
      "+-------+------+-------------+--------------+--------------+--------------+-------+\n",
      "only showing top 5 rows\n",
      "\n"
     ]
    }
   ],
   "source": [
    "train_data.show(5)"
   ]
  },
  {
   "cell_type": "code",
   "execution_count": 11,
   "metadata": {},
   "outputs": [
    {
     "data": {
      "text/plain": [
       "StructType(List(StructField(type,StringType,true),StructField(amount,DoubleType,true),StructField(oldbalanceOrg,DoubleType,true),StructField(newbalanceOrig,DoubleType,true),StructField(oldbalancedest,DoubleType,true),StructField(newbalanceDest,DoubleType,true),StructField(isFraud,DoubleType,true)))"
      ]
     },
     "execution_count": 11,
     "metadata": {},
     "output_type": "execute_result"
    }
   ],
   "source": [
    "train_data.schema"
   ]
  },
  {
   "cell_type": "markdown",
   "metadata": {},
   "source": [
    "## Models"
   ]
  },
  {
   "cell_type": "code",
   "execution_count": 12,
   "metadata": {},
   "outputs": [],
   "source": [
    "from pyspark.ml.feature import (VectorAssembler, VectorIndexer, OneHotEncoder, StringIndexer)\n",
    "from pyspark.ml.classification import LogisticRegression, RandomForestClassifier\n",
    "from pyspark.ml import Pipeline"
   ]
  },
  {
   "cell_type": "markdown",
   "metadata": {},
   "source": [
    "### Transformers"
   ]
  },
  {
   "cell_type": "code",
   "execution_count": 13,
   "metadata": {},
   "outputs": [],
   "source": [
    "type_indexer = StringIndexer(inputCol='type',outputCol='typeIndex')\n",
    "type_encoder = OneHotEncoder(inputCol='typeIndex',outputCol='typeVec')"
   ]
  },
  {
   "cell_type": "code",
   "execution_count": 14,
   "metadata": {},
   "outputs": [],
   "source": [
    "assembler = VectorAssembler(inputCols=['typeVec', 'amount', 'oldbalanceOrg', 'newbalanceOrig', 'oldbalancedest', 'newbalanceDest'],\n",
    "                            outputCol='features')"
   ]
  },
  {
   "cell_type": "markdown",
   "metadata": {},
   "source": [
    "### Logistic Regression"
   ]
  },
  {
   "cell_type": "code",
   "execution_count": 19,
   "metadata": {},
   "outputs": [
    {
     "name": "stdout",
     "output_type": "stream",
     "text": [
      "+-------+----------+\n",
      "|isFraud|prediction|\n",
      "+-------+----------+\n",
      "|    0.0|       0.0|\n",
      "|    0.0|       0.0|\n",
      "|    0.0|       0.0|\n",
      "|    0.0|       0.0|\n",
      "|    0.0|       0.0|\n",
      "|    0.0|       0.0|\n",
      "|    0.0|       0.0|\n",
      "|    0.0|       0.0|\n",
      "|    0.0|       0.0|\n",
      "|    0.0|       0.0|\n",
      "|    0.0|       0.0|\n",
      "|    0.0|       0.0|\n",
      "|    0.0|       0.0|\n",
      "|    0.0|       0.0|\n",
      "|    0.0|       0.0|\n",
      "|    0.0|       0.0|\n",
      "|    0.0|       0.0|\n",
      "|    0.0|       0.0|\n",
      "|    0.0|       0.0|\n",
      "|    0.0|       0.0|\n",
      "+-------+----------+\n",
      "only showing top 20 rows\n",
      "\n",
      "Wall time: 1min 47s\n"
     ]
    }
   ],
   "source": [
    "%%time\n",
    "log_reg = LogisticRegression(featuresCol='features', labelCol='isFraud').setMaxIter(10).setRegParam(0.3).setElasticNetParam(0.8)\n",
    "pipeline = Pipeline(stages=[type_indexer, type_encoder, assembler, log_reg])\n",
    "fit_model = pipeline.fit(train_data)\n",
    "results = fit_model.transform(test_data)\n",
    "results.select('isFraud', 'prediction').show()"
   ]
  },
  {
   "cell_type": "code",
   "execution_count": 20,
   "metadata": {},
   "outputs": [
    {
     "data": {
      "text/plain": [
       "0.5"
      ]
     },
     "execution_count": 20,
     "metadata": {},
     "output_type": "execute_result"
    }
   ],
   "source": [
    "my_eval = BinaryClassificationEvaluator(rawPredictionCol='prediction', labelCol='isFraud')\n",
    "AUC = my_eval.evaluate(results)\n",
    "AUC"
   ]
  },
  {
   "cell_type": "markdown",
   "metadata": {},
   "source": [
    "### Random Forest"
   ]
  },
  {
   "cell_type": "code",
   "execution_count": 16,
   "metadata": {},
   "outputs": [
    {
     "name": "stdout",
     "output_type": "stream",
     "text": [
      "+-------+------+-------------+--------------+--------------+--------------+-------+---------+-------------+--------------------+--------------------+--------------------+----------+\n",
      "|   type|amount|oldbalanceOrg|newbalanceOrig|oldbalancedest|newbalanceDest|isFraud|typeIndex|      typeVec|            features|       rawPrediction|         probability|prediction|\n",
      "+-------+------+-------------+--------------+--------------+--------------+-------+---------+-------------+--------------------+--------------------+--------------------+----------+\n",
      "|CASH_IN|  5.66|   5061561.06|    5061566.72|      60569.78|      60564.12|    0.0|      2.0|(4,[2],[1.0])|[0.0,0.0,1.0,0.0,...|[9.99874058036982...|[0.99987405803698...|       0.0|\n",
      "|CASH_IN| 11.13|   4116439.74|    4116450.87|     347523.14|     347512.01|    0.0|      2.0|(4,[2],[1.0])|[0.0,0.0,1.0,0.0,...|[9.99874058036982...|[0.99987405803698...|       0.0|\n",
      "|CASH_IN| 12.79|     601743.0|     601755.79|    2819794.75|    2819781.96|    0.0|      2.0|(4,[2],[1.0])|[0.0,0.0,1.0,0.0,...|[9.99874058036982...|[0.99987405803698...|       0.0|\n",
      "|CASH_IN| 14.54|    3347286.5|    3347301.03|      145142.0|     274473.98|    0.0|      2.0|(4,[2],[1.0])|[0.0,0.0,1.0,0.0,...|[9.99874058036982...|[0.99987405803698...|       0.0|\n",
      "|CASH_IN| 15.59| 1.64294897E7| 1.642950528E7|    2524155.03|    2363407.95|    0.0|      2.0|(4,[2],[1.0])|[0.0,0.0,1.0,0.0,...|[9.99874058036982...|[0.99987405803698...|       0.0|\n",
      "+-------+------+-------------+--------------+--------------+--------------+-------+---------+-------------+--------------------+--------------------+--------------------+----------+\n",
      "only showing top 5 rows\n",
      "\n",
      "Wall time: 4min 41s\n"
     ]
    }
   ],
   "source": [
    "%%time\n",
    "rf = RandomForestClassifier().setLabelCol('isFraud').setFeaturesCol('features').setNumTrees(10)\n",
    "pipeline = Pipeline(stages=[type_indexer, type_encoder, assembler, rf])\n",
    "model = pipeline.fit(train_data)\n",
    "results = model.transform(test_data)\n",
    "results.show(5)"
   ]
  },
  {
   "cell_type": "code",
   "execution_count": 17,
   "metadata": {},
   "outputs": [],
   "source": [
    "from pyspark.ml.evaluation import BinaryClassificationEvaluator"
   ]
  },
  {
   "cell_type": "code",
   "execution_count": 18,
   "metadata": {},
   "outputs": [
    {
     "data": {
      "text/plain": [
       "0.8184765065543761"
      ]
     },
     "execution_count": 18,
     "metadata": {},
     "output_type": "execute_result"
    }
   ],
   "source": [
    "my_eval = BinaryClassificationEvaluator(rawPredictionCol='prediction', labelCol='isFraud')\n",
    "AUC = my_eval.evaluate(results)\n",
    "AUC"
   ]
  }
 ],
 "metadata": {
  "kernelspec": {
   "display_name": "Python 3",
   "language": "python",
   "name": "python3"
  },
  "language_info": {
   "codemirror_mode": {
    "name": "ipython",
    "version": 3
   },
   "file_extension": ".py",
   "mimetype": "text/x-python",
   "name": "python",
   "nbconvert_exporter": "python",
   "pygments_lexer": "ipython3",
   "version": "3.5.2"
  }
 },
 "nbformat": 4,
 "nbformat_minor": 2
}
