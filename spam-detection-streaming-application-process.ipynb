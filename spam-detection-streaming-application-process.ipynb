{
 "cells": [
  {
   "cell_type": "markdown",
   "metadata": {},
   "source": [
    "### Create model and streaming script\n",
    "module_11_case_study_1.py\n",
    "\n",
    "### Create flume conf file\n",
    "module_11_cs1.conf\n",
    "\n",
    "### Webconsole 1 - kafka\n",
    "\n",
    "```kafka-topics --create --zookeeper ip-20-0-21-196.ec2.internal:2181 --replication-factor 1 --partitions 1 --topic edureka_854312_assignment_11_1```\n",
    "\n",
    "To delete topic:\n",
    "\n",
    "```\n",
    "zookeeper-client -server ip-20-0-21-196.ec2.internal:2181\n",
    "rmr /brokers/topics/edureka_854312_assignment_11_1\n",
    "rmr /admin/delete_topics/edureka_854312_assignment_11_1\n",
    "quit\n",
    "```\n",
    "\n",
    "```kafka-console-producer --topic edureka_854312_assignment_11_1 --broker-list ip-20-0-31-210.ec2.internal:9092, ip-20-0-31-221.ec2.internal:9092, ip-20-0-31-221.ec2.internal:9092```\n",
    "\n",
    "### Webconsole 2 - flume\n",
    "\n",
    "```flume-ng agent --conf conf --conf-file module_11_cs1.conf --name edureka_854312_spamDetection -Dflume.root.logger=INFO,console```\n",
    "\n",
    "### Webconsole 3 - spark submit\n",
    "\n",
    "```spark2-submit --master yarn module_11_case_study_1.py```\n",
    "\n",
    "\n",
    "\n",
    "### Gererate messages in producer:\n",
    "- What you doing? How are you?\n",
    "- Sunshine Quiz! Win a super Sony DVD recorder if you can name the capital of Australia? Text MQUIZ to 82277\n"
   ]
  }
 ],
 "metadata": {
  "kernelspec": {
   "display_name": "Python 3",
   "language": "python",
   "name": "python3"
  },
  "language_info": {
   "codemirror_mode": {
    "name": "ipython",
    "version": 3
   },
   "file_extension": ".py",
   "mimetype": "text/x-python",
   "name": "python",
   "nbconvert_exporter": "python",
   "pygments_lexer": "ipython3",
   "version": "3.5.2"
  }
 },
 "nbformat": 4,
 "nbformat_minor": 2
}
